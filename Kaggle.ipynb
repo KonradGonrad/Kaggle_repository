{
  "nbformat": 4,
  "nbformat_minor": 0,
  "metadata": {
    "colab": {
      "private_outputs": true,
      "provenance": []
    },
    "kernelspec": {
      "name": "python3",
      "display_name": "Python 3"
    },
    "language_info": {
      "name": "python"
    }
  },
  "cells": [
    {
      "cell_type": "code",
      "execution_count": null,
      "metadata": {
        "id": "_LRX9ztDD6Cm"
      },
      "outputs": [],
      "source": [
        "import pandas as pd\n",
        "import numpy as np"
      ]
    },
    {
      "cell_type": "code",
      "source": [
        "dane = {\n",
        "    \"ID\": list(range(1, 41)),\n",
        "    \"Produkt\": [\n",
        "        \"Laptop\", \"Telefon\", \"Tablet\", \"Monitor\", \"Laptop\", \"Tablet\", \"Telefon\", \"Laptop\",\n",
        "        \"Monitor\", \"Tablet\", \"Laptop\", \"Telefon\", \"Tablet\", \"Monitor\", \"Laptop\", \"Telefon\",\n",
        "        \"Tablet\", \"Laptop\", \"Monitor\", \"Tablet\", \"Laptop\", \"Telefon\", \"Tablet\", \"Monitor\",\n",
        "        \"Laptop\", \"Telefon\", \"Tablet\", \"Monitor\", \"Laptop\", \"Telefon\", \"Tablet\", \"Laptop\",\n",
        "        \"Monitor\", \"Tablet\", \"Laptop\", \"Telefon\", \"Tablet\", \"Monitor\", \"Telefon\", \"Tablet\"\n",
        "    ],\n",
        "    \"Model\": [\n",
        "        \"XPS 13\", \"iPhone 12\", \"Galaxy Tab S7\", \"UltraFine 4K\", \"Inspiron 15\", \"iPad Air\",\n",
        "        \"iPhone 11\", \"Latitude 7420\", \"UltraWide\", \"Galaxy Tab A\", \"MacBook Pro\", \"iPhone SE\",\n",
        "        \"Surface Go\", \"UltraFine 5K\", \"ThinkPad X1\", \"Pixel 5\", \"iPad Pro\", \"MacBook Air\",\n",
        "        \"Pro Display\", \"MediaPad T5\", \"ZenBook\", \"Galaxy S21\", \"Lenovo Tab M10\", \"Samsung M5\",\n",
        "        \"VivoBook\", \"Pixel 4a\", \"iPad Mini\", \"LG FullHD\", \"HP Pavilion\", \"OnePlus 8\",\n",
        "        \"Fire HD 10\", \"Razer Blade\", \"BenQ GW2780\", \"Surface Pro\", \"Moto G Power\", \"Galaxy Tab S6\",\n",
        "        \"Dell P2419H\", \"Nokia 5.3\", \"iPad Mini\", \"ThinkVision\"\n",
        "    ],\n",
        "    \"Cena\": [\n",
        "        5200, 3600, 2000, 3200, 4500, 2500, 2900, 5800, 3400, 1800,\n",
        "        6500, 2200, 2100, 4200, 4700, 3000, 3700, 4300, 12000, 1600,\n",
        "        4100, 3800, 1500, 2700, 3800, 2400, 2900, 3500, 4000, 3100,\n",
        "        1200, 7500, 2500, 1400, 1700, 2400, 2300, 1100, 2800, 2500\n",
        "    ],\n",
        "    \"Ilość\": [\n",
        "        1, 3, 2, 4, 1, 2, 3, 1, 5, 3,\n",
        "        2, 3, 1, 4, 2, 3, 1, 2, 1, 4,\n",
        "        2, 3, 1, 2, 4, 1, 3, 2, 5, 3,\n",
        "        2, 1, 3, 4, 1, 2, 3, 4, 1, 2\n",
        "    ],\n",
        "    \"Rok_zakupu\": [\n",
        "        2020, 2021, 2022, 2019, 2020, 2022, 2021, 2020, 2019, 2022,\n",
        "        2020, 2021, 2022, 2019, 2020, 2021, 2022, 2020, 2019, 2022,\n",
        "        2020, 2021, 2022, 2019, 2020, 2021, 2022, 2019, 2020, 2021,\n",
        "        2022, 2020, 2019, 2022, 2020, 2021, 2022, 2019, 2021, 2022\n",
        "    ],\n",
        "    \"Kategoria\": [\n",
        "        \"Elektronika\"] * 40,\n",
        "    \"Producent\": [\n",
        "        \"Dell\", \"Apple\", \"Samsung\", \"LG\", \"Dell\", \"Apple\", \"Apple\", \"Dell\",\n",
        "        \"LG\", \"Samsung\", \"Apple\", \"Apple\", \"Microsoft\", \"LG\", \"Lenovo\", \"Google\", \"Apple\", \"Apple\",\n",
        "        \"Apple\", \"Huawei\", \"Asus\", \"Samsung\", \"Lenovo\", \"Samsung\", \"Asus\", \"Google\", \"Apple\",\n",
        "        \"LG\", \"HP\", \"OnePlus\", \"Amazon\", \"Razer\", \"BenQ\", \"Microsoft\", \"Motorola\", \"Samsung\",\n",
        "        \"Dell\", \"Nokia\", \"Apple\", \"Lenovo\"\n",
        "    ],\n",
        "    \"Dostępność\": [\n",
        "        \"Dostępny\", \"Dostępny\", \"Niedostępny\", \"Dostępny\", \"Dostępny\", \"Dostępny\",\n",
        "        \"Dostępny\", \"Niedostępny\", \"Dostępny\", \"Niedostępny\", \"Dostępny\", \"Dostępny\",\n",
        "        \"Niedostępny\", \"Dostępny\", \"Dostępny\", \"Dostępny\", \"Niedostępny\", \"Dostępny\",\n",
        "        \"Niedostępny\", \"Dostępny\", \"Dostępny\", \"Dostępny\", \"Niedostępny\", \"Dostępny\",\n",
        "        \"Dostępny\", \"Dostępny\", \"Niedostępny\", \"Dostępny\", \"Dostępny\", \"Dostępny\",\n",
        "        \"Niedostępny\", \"Dostępny\", \"Niedostępny\", \"Dostępny\", \"Dostępny\", \"Niedostępny\",\n",
        "        \"Dostępny\", \"Dostępny\", \"Niedostępny\", \"Dostępny\"\n",
        "    ]\n",
        "}"
      ],
      "metadata": {
        "id": "mmFJo-r9EDR_"
      },
      "execution_count": null,
      "outputs": []
    },
    {
      "cell_type": "code",
      "source": [
        "df = pd.DataFrame(dane)\n",
        "df.set_index('ID')\n",
        "df.head(3)"
      ],
      "metadata": {
        "id": "5Mc7A92Uj-Jp"
      },
      "execution_count": null,
      "outputs": []
    },
    {
      "cell_type": "code",
      "source": [
        "df.groupby(['Produkt','Producent']).Cena.mean()"
      ],
      "metadata": {
        "id": "ag7f5nVUJDM2"
      },
      "execution_count": null,
      "outputs": []
    },
    {
      "cell_type": "code",
      "source": [
        "df.groupby(['Producent', 'Produkt']).Cena.mean()"
      ],
      "metadata": {
        "id": "GWpuM00tJj9e"
      },
      "execution_count": null,
      "outputs": []
    },
    {
      "cell_type": "code",
      "source": [
        "df.groupby('Producent').apply(lambda x: x.Cena.sum())"
      ],
      "metadata": {
        "id": "h3CHkx2iJ1r1"
      },
      "execution_count": null,
      "outputs": []
    },
    {
      "cell_type": "code",
      "source": [
        "df.groupby('Producent').Cena.sum()"
      ],
      "metadata": {
        "id": "BWd3L5biLUHN"
      },
      "execution_count": null,
      "outputs": []
    },
    {
      "cell_type": "code",
      "source": [
        "df.groupby(['Producent', 'Produkt']).apply(lambda x: x.loc[x.Cena.idxmax(), ['Model', 'Cena', 'Kategoria']])"
      ],
      "metadata": {
        "id": "PqKJ1xXVL0L4"
      },
      "execution_count": null,
      "outputs": []
    },
    {
      "cell_type": "code",
      "source": [
        "df.groupby('Producent').Cena.agg(['min', 'max', 'mean', 'median'])"
      ],
      "metadata": {
        "id": "leJH7mvIBfEj"
      },
      "execution_count": null,
      "outputs": []
    },
    {
      "cell_type": "code",
      "source": [
        "df.head(3)"
      ],
      "metadata": {
        "id": "qRX6mXsGOr3g"
      },
      "execution_count": null,
      "outputs": []
    },
    {
      "cell_type": "code",
      "source": [
        "group = df.groupby(['Produkt', 'Producent', 'Model']).Dostępność.apply(lambda x: x == 'Dostępny')\n",
        "group"
      ],
      "metadata": {
        "id": "L-MuSdb5PRca"
      },
      "execution_count": null,
      "outputs": []
    },
    {
      "cell_type": "code",
      "source": [
        "mi = group.index\n",
        "\n",
        "type(mi)"
      ],
      "metadata": {
        "id": "yidPPWnkPrfx"
      },
      "execution_count": null,
      "outputs": []
    },
    {
      "cell_type": "code",
      "source": [
        "group.reset_index()"
      ],
      "metadata": {
        "id": "Yf4u9zPoQjx8"
      },
      "execution_count": null,
      "outputs": []
    },
    {
      "cell_type": "code",
      "source": [
        "group_nIndex = group.reset_index()\n",
        "group_nIndex.sort_values(by=['Produkt', 'Dostępność'], ascending = [True, False])"
      ],
      "metadata": {
        "id": "sYlLG81vUaXm"
      },
      "execution_count": null,
      "outputs": []
    },
    {
      "cell_type": "code",
      "source": [
        "group.sort_index()"
      ],
      "metadata": {
        "id": "FOZW-KhZUyi1"
      },
      "execution_count": null,
      "outputs": []
    },
    {
      "cell_type": "code",
      "source": [
        "group_nIndex.sort_index()"
      ],
      "metadata": {
        "id": "jjgfz3pVVZUp"
      },
      "execution_count": null,
      "outputs": []
    },
    {
      "cell_type": "code",
      "source": [
        "df.Produkt.dtype"
      ],
      "metadata": {
        "id": "d7cyQjRrVcer"
      },
      "execution_count": null,
      "outputs": []
    },
    {
      "cell_type": "code",
      "source": [
        "df.dtypes"
      ],
      "metadata": {
        "id": "Xwzj2H2Dxono"
      },
      "execution_count": null,
      "outputs": []
    },
    {
      "cell_type": "code",
      "source": [
        "df.Cena.astype('float64')"
      ],
      "metadata": {
        "id": "LJIkoCblxyAy"
      },
      "execution_count": null,
      "outputs": []
    },
    {
      "cell_type": "code",
      "source": [
        "df.index.dtype"
      ],
      "metadata": {
        "id": "mYGOnH3AzdxP"
      },
      "execution_count": null,
      "outputs": []
    },
    {
      "cell_type": "code",
      "source": [
        "updated_data = dane = {\n",
        "    \"ID\": list(range(1, 45)),  # Zwiększono liczbę ID do 44\n",
        "    \"Produkt\": [\n",
        "        \"Laptop\", \"Telefon\", \"Tablet\", \"Monitor\", \"Laptop\", \"Tablet\", \"Telefon\", \"Laptop\",\n",
        "        \"Monitor\", \"Tablet\", \"Laptop\", \"Telefon\", \"Tablet\", \"Monitor\", \"Laptop\", \"Telefon\",\n",
        "        \"Tablet\", \"Laptop\", \"Monitor\", \"Tablet\", \"Laptop\", \"Telefon\", \"Tablet\", \"Monitor\",\n",
        "        \"Laptop\", \"Telefon\", \"Tablet\", \"Monitor\", \"Laptop\", \"Telefon\", \"Tablet\", \"Laptop\",\n",
        "        \"Monitor\", \"Tablet\", \"Laptop\", \"Telefon\", \"Tablet\", \"Monitor\", \"Telefon\", \"Tablet\",\n",
        "        \"Laptop\", \"Monitor\", None, \"Tablet\"\n",
        "    ],\n",
        "    \"Model\": [\n",
        "        \"XPS 13\", \"iPhone 12\", \"Galaxy Tab S7\", \"UltraFine 4K\", \"Inspiron 15\", \"iPad Air\",\n",
        "        \"iPhone 11\", \"Latitude 7420\", \"UltraWide\", \"Galaxy Tab A\", \"MacBook Pro\", \"iPhone SE\",\n",
        "        \"Surface Go\", \"UltraFine 5K\", \"ThinkPad X1\", \"Pixel 5\", \"iPad Pro\", \"MacBook Air\",\n",
        "        \"Pro Display\", \"MediaPad T5\", \"ZenBook\", \"Galaxy S21\", \"Lenovo Tab M10\", \"Samsung M5\",\n",
        "        \"VivoBook\", \"Pixel 4a\", \"iPad Mini\", \"LG FullHD\", \"HP Pavilion\", \"OnePlus 8\",\n",
        "        \"Fire HD 10\", \"Razer Blade\", \"BenQ GW2780\", \"Surface Pro\", \"Moto G Power\", \"Galaxy Tab S6\",\n",
        "        \"Dell P2419H\", \"Nokia 5.3\", \"iPad Mini\", \"ThinkVision\", None, None, \"MacBook Air\", \"Xiaomi MiPad\"\n",
        "    ],\n",
        "    \"Cena\": [\n",
        "        5200, 3600, 2000, 3200, 4500, 2500, 2900, 5800, 3400, 1800,\n",
        "        6500, 2200, 2100, 4200, 4700, 3000, 3700, 4300, 12000, 1600,\n",
        "        4100, 3800, 1500, 2700, 3800, 2400, 2900, 3500, 4000, 3100,\n",
        "        1200, 7500, 2500, 1400, 1700, 2400, 2300, 1100, 2800, 2500,\n",
        "        None, 4200, 3100, None\n",
        "    ],\n",
        "    \"Ilość\": [\n",
        "        1, 3, 2, 4, 1, 2, 3, 1, 5, 3,\n",
        "        2, 3, 1, 4, 2, 3, 1, 2, 1, 4,\n",
        "        2, 3, 1, 2, 4, 1, 3, 2, 5, 3,\n",
        "        2, 1, 3, 4, 1, 2, 3, 4, 1, 2,\n",
        "        3, None, None, 1\n",
        "    ],\n",
        "    \"Rok_zakupu\": [\n",
        "        2020, 2021, 2022, 2019, 2020, 2022, 2021, 2020, 2019, 2022,\n",
        "        2020, 2021, 2022, 2019, 2020, 2021, 2022, 2020, 2019, 2022,\n",
        "        2020, 2021, 2022, 2019, 2020, 2021, 2022, 2019, 2020, 2021,\n",
        "        2022, 2020, 2019, 2022, 2020, 2021, 2022, 2019, 2021, 2022,\n",
        "        None, 2021, None, 2022\n",
        "    ],\n",
        "    \"Kategoria\": [\"Elektronika\"] * 44,\n",
        "    \"Producent\": [\n",
        "        \"Dell\", \"Apple\", \"Samsung\", \"LG\", \"Dell\", \"Apple\", \"Apple\", \"Dell\",\n",
        "        \"LG\", \"Samsung\", \"Apple\", \"Apple\", \"Microsoft\", \"LG\", \"Lenovo\", \"Google\", \"Apple\", \"Apple\",\n",
        "        \"Apple\", \"Huawei\", \"Asus\", \"Samsung\", \"Lenovo\", \"Samsung\", \"Asus\", \"Google\", \"Apple\",\n",
        "        \"LG\", \"HP\", \"OnePlus\", \"Amazon\", \"Razer\", \"BenQ\", \"Microsoft\", \"Motorola\", \"Samsung\",\n",
        "        \"Dell\", \"Nokia\", \"Apple\", \"Lenovo\", \"Asus\", None, \"Apple\", \"Xiaomi\"\n",
        "    ],\n",
        "    \"Dostępność\": [\n",
        "        \"Dostępny\", \"Dostępny\", \"Niedostępny\", \"Dostępny\", \"Dostępny\", \"Dostępny\",\n",
        "        \"Dostępny\", \"Niedostępny\", \"Dostępny\", \"Niedostępny\", \"Dostępny\", \"Dostępny\",\n",
        "        \"Niedostępny\", \"Dostępny\", \"Dostępny\", \"Dostępny\", \"Niedostępny\", \"Dostępny\",\n",
        "        \"Niedostępny\", \"Dostępny\", \"Dostępny\", \"Dostępny\", \"Niedostępny\", \"Dostępny\",\n",
        "        \"Dostępny\", \"Dostępny\", \"Niedostępny\", \"Dostępny\", \"Dostępny\", \"Dostępny\",\n",
        "        \"Niedostępny\", \"Dostępny\", \"Niedostępny\", \"Dostępny\", \"Dostępny\", \"Niedostępny\",\n",
        "        \"Dostępny\", \"Dostępny\", \"Niedostępny\", \"Dostępny\", None, \"Niedostępny\", \"Dostępny\", \"Niedostępny\"\n",
        "    ]\n",
        "}"
      ],
      "metadata": {
        "id": "Jq3ntMuFzitk"
      },
      "execution_count": null,
      "outputs": []
    },
    {
      "cell_type": "code",
      "source": [
        "df = pd.DataFrame(updated_data).set_index('ID')\n",
        "df"
      ],
      "metadata": {
        "id": "Rp1vJk-g0nFJ"
      },
      "execution_count": null,
      "outputs": []
    },
    {
      "cell_type": "code",
      "source": [
        "df[pd.isnull(df.Ilość)]"
      ],
      "metadata": {
        "id": "EeEFk9DI0p90"
      },
      "execution_count": null,
      "outputs": []
    },
    {
      "cell_type": "code",
      "source": [
        "df[pd.notnull(df.Ilość)]"
      ],
      "metadata": {
        "id": "uqbcdvMB0xUQ"
      },
      "execution_count": null,
      "outputs": []
    },
    {
      "cell_type": "code",
      "source": [
        "df.isnull().sum()"
      ],
      "metadata": {
        "id": "YoCGibar1B8b"
      },
      "execution_count": null,
      "outputs": []
    },
    {
      "cell_type": "code",
      "source": [
        "df.fillna('Unknown')"
      ],
      "metadata": {
        "id": "gmHw0onM1ERJ"
      },
      "execution_count": null,
      "outputs": []
    },
    {
      "cell_type": "code",
      "source": [
        "df.Dostępność.replace('Niedostępny', 'Dostępny')"
      ],
      "metadata": {
        "id": "uUKG9KlH1yGe"
      },
      "execution_count": null,
      "outputs": []
    },
    {
      "cell_type": "code",
      "source": [
        "df.Dostępność.fillna('Dostępny', inplace = True)"
      ],
      "metadata": {
        "id": "On_7RNoF32Ta"
      },
      "execution_count": null,
      "outputs": []
    },
    {
      "cell_type": "code",
      "source": [
        "df.loc[df.index == 41]"
      ],
      "metadata": {
        "id": "p2q_wASO391T"
      },
      "execution_count": null,
      "outputs": []
    },
    {
      "cell_type": "code",
      "source": [
        "df.rename(columns={'Rok_zakupu': 'Rok'})"
      ],
      "metadata": {
        "id": "OjGQ9x0Y4e5U"
      },
      "execution_count": null,
      "outputs": []
    },
    {
      "cell_type": "code",
      "source": [
        "df"
      ],
      "metadata": {
        "id": "H8me83ur__7y"
      },
      "execution_count": null,
      "outputs": []
    },
    {
      "cell_type": "code",
      "source": [
        "df.rename(index={0:'firstEntry', 1:'SecondEntry'})"
      ],
      "metadata": {
        "id": "L_a4bfiLABiI"
      },
      "execution_count": null,
      "outputs": []
    },
    {
      "cell_type": "code",
      "source": [
        "df.rename_axis('Products', axis='rows').rename_axis('fields', axis='columns').head(3)"
      ],
      "metadata": {
        "id": "ZhrEYM-mAQe_"
      },
      "execution_count": null,
      "outputs": []
    },
    {
      "cell_type": "code",
      "source": [
        "data_1 = pd.DataFrame({\n",
        "    \"ID_transakcji\": [101, 102, 103, 104, 105],\n",
        "    \"ID_produktu\": [1, 2, 2, 4, 6],\n",
        "    \"Data_zakupu\": [\"2023-01-10\", \"2023-01-15\", \"2023-01-20\", \"2023-02-01\", \"2023-02-05\"],\n",
        "    \"Ilość\": [2, 1, 3, 2, 1]\n",
        "})\n",
        "\n",
        "data_2 = pd.DataFrame({\n",
        "    \"ID_produktu\": [1, 2, 3, 4, 5, 6],\n",
        "    \"Nazwa\": [\"Laptop\", \"Tablet\", \"Monitor\", \"Telefon\", \"Drukarka\", \"Router\"],\n",
        "    \"Kategoria\": [\"Elektronika\", \"Elektronika\", \"Elektronika\", \"Elektronika\", \"Biuro\", \"Sieciowe\"],\n",
        "    \"Cena\": [4500, 1500, 800, 3000, 500, 200]\n",
        "})"
      ],
      "metadata": {
        "id": "6O2nmaGiDlSL"
      },
      "execution_count": null,
      "outputs": []
    },
    {
      "cell_type": "code",
      "source": [
        "pd.concat([data_1, data_2])"
      ],
      "metadata": {
        "id": "3uh1JyAwZwVo"
      },
      "execution_count": null,
      "outputs": []
    },
    {
      "cell_type": "code",
      "source": [
        "youtube_uk = pd.DataFrame({\n",
        "    \"Video_ID\": [\"VID001\", \"VID002\", \"VID003\", \"VID004\", \"VID005\"],\n",
        "    \"Title\": [\n",
        "        \"Exploring Cities\",\n",
        "        \"Top 10 Foods\",\n",
        "        \"World Heritage Sites\",\n",
        "        \"Wildlife Documentary\",\n",
        "        \"Language and Accents\"\n",
        "    ],\n",
        "    \"Views\": [210000, 140000, 110000, 60000, 310000],\n",
        "    \"Likes\": [15500, 11500, 8500, 3500, 25500],\n",
        "    \"Dislikes\": [250, 160, 120, 60, 310],\n",
        "    \"Comments\": [1050, 850, 550, 250, 1250]\n",
        "})\n",
        "\n",
        "youtube_us = pd.DataFrame({\n",
        "    \"Video_ID\": [\"VID001\", \"VID002\", \"VID003\", \"VID004\", \"VID005\"],\n",
        "    \"Title\": [\n",
        "        \"Exploring Cities\",\n",
        "        \"Top 10 Foods\",\n",
        "        \"World Heritage Sites\",\n",
        "        \"Wildlife Documentary\",\n",
        "        \"Language and Accents\"\n",
        "    ],\n",
        "    \"Views\": [300000, 230000, 200000, 90000, 400000],\n",
        "    \"Likes\": [20500, 17500, 12500, 5500, 35500],\n",
        "    \"Dislikes\": [320, 270, 180, 110, 420],\n",
        "    \"Comments\": [1600, 1250, 750, 350, 2050]\n",
        "})"
      ],
      "metadata": {
        "id": "z53LO555Z0bJ"
      },
      "execution_count": null,
      "outputs": []
    },
    {
      "cell_type": "code",
      "source": [
        "left = youtube_us.set_index(['Video_ID', 'Title'])\n",
        "right = youtube_uk.set_index(['Video_ID', 'Title'])\n",
        "left.join(right, lsuffix='_US', rsuffix='_UK')"
      ],
      "metadata": {
        "id": "zzGHWohin3Vv"
      },
      "execution_count": null,
      "outputs": []
    },
    {
      "cell_type": "code",
      "source": [],
      "metadata": {
        "id": "7UDZBkCCoTaV"
      },
      "execution_count": null,
      "outputs": []
    }
  ]
}